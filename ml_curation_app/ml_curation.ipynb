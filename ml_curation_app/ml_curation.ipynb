{
    "cells": [
        {
            "cell_type": "code",
            "execution_count": null,
            "metadata": {},
            "outputs": [],
            "source": [
                "#import gevent\n",
                "#from gevent import monkey; monkey.patch_all()\n",
                "import time\n",
                "from datetime import datetime, timedelta\n",
                "\n",
                "import feedparser as fp\n",
                "import pytz\n",
                "\n",
                "\n",
                "subscriptions = [\n",
                "    #'http://www.pydanny.com/feeds/all.atom.xml',\n",
                "    #'http://www.blog.pythonlibrary.org/feed/',\n",
                "    #'https://realpython.com/atom.xml'\n",
                "    'https://rfriend.tistory.com/rss']\n",
                "    \n",
                "\n",
                "# Date and time setup. I want only posts from \"today,\"\n",
                "\"\"\"\n",
                "1년이내의 계시물?\n",
                "\"\"\"\n",
                "\n",
                "utc = pytz.utc\n",
                "homeTZ = pytz.timezone('Asia/Seoul')\n",
                "dt = datetime.now(homeTZ)\n",
                "if dt.hour < 2:\n",
                "    dt = dt - timedelta(hours=24)\n",
                "start = dt.replace(hour=0, minute=0, second=0, microsecond=0)\n",
                "start = start.astimezone(utc)\n",
                "\n",
                "\n",
                "ten_days_ago = datetime.now(homeTZ) - timedelta(days=30)\n",
                "\n",
                "\n",
                "# Collect all of today's posts and put them in a list of tuples.\n",
                "posts = []\n",
                "\n",
                "\n",
                "def get_posts():\n",
                "    for s in subscriptions:\n",
                "        f = fp.parse(s)\n",
                "        try:\n",
                "            blog = f['feed']['title']\n",
                "        except KeyError:\n",
                "            continue\n",
                "        for e in f['entries']:\n",
                "            try:\n",
                "                when = e['published_parsed']\n",
                "            except KeyError:\n",
                "                when = e['updated_parsed']\n",
                "            when = utc.localize(datetime.fromtimestamp(time.mktime(when)))\n",
                "            if when > ten_days_ago:\n",
                "                title = e['title']\n",
                "                try:\n",
                "                    body = e['content'][0]['value']\n",
                "                except KeyError:\n",
                "                    body = e['summary']\n",
                "                link = e['link']\n",
                "                posts.append((when, blog, title, link, body))\n",
                "\n",
                "                # Sort the posts in reverse chronological order.\n",
                "                posts.sort()\n",
                "                posts.reverse()\n",
                "    return posts\n",
                "\n",
                "# def get_post_gv(s):\n",
                "#     f = fp.parse(s)\n",
                "#     try:\n",
                "#         blog = f['feed']['title']\n",
                "#     except KeyError:\n",
                "#         blog = \"blog\"\n",
                "#     for e in f['entries']:\n",
                "#         try:\n",
                "#             when = e['published_parsed']\n",
                "#         except KeyError:\n",
                "#             when = e['updated_parsed']\n",
                "#         when = utc.localize(datetime.fromtimestamp(time.mktime(when)))\n",
                "#         if when > start:\n",
                "#             title = e['title']\n",
                "#             try:\n",
                "#                 body = e['content'][0]['value']\n",
                "#             except KeyError:\n",
                "#                 body = e['summary']\n",
                "#             link = e['link']\n",
                "#             posts.append((when, blog, title, link, body))\n",
                "#\n",
                "#             # Sort the posts in reverse chronological order.\n",
                "#             posts.sort()\n",
                "#             posts.reverse()\n",
                "#     return posts\n",
                "\n",
                "# def get_posts_call():\n",
                "#     jobs = [gevent.spawn(get_post_gv, s) for s in subscriptions]\n",
                "#     gevent.wait(jobs)\n",
                "\n",
                "def get_single_blog(feed):\n",
                "    '''Feed the all_posts path an individual blog/feed to parse and display from inside the template'''\n",
                "    the_feed = fp.parse(feed)\n",
                "    single_blog_posts = the_feed['entries']\n",
                "    return single_blog_posts\n",
                "\n",
                "\n",
                "def get_subscriptions():\n",
                "    '''simple method to pass the subscriptions (will improve here)'''\n",
                "    s = subscriptions\n",
                "    return s\n",
                "\n",
                "\n",
                "# TODO: pick the most efficient option: generate html in template or in code\n",
                "def get_sorted_posts(sorted_posts):\n",
                "    '''\n",
                "    This method returns generated html with the days posts. Contrast to the get_single_blog method that\n",
                "    generates the html inside the template.'''\n",
                "    listTemplate = ''' <section>\n",
                "                <h2 class=\"page-header no-margin-top\"><a href=\"{3}\">{2}</a></h2>\n",
                "                <p>{4}</p>\n",
                "            <div class=\"panel-footer\">\n",
                "                        <div class=\"row\">\n",
                "                            <div class=\"col-md-12\">\n",
                "                                <i class=\"fa fa-clock-o\"></i> {0} <i class=\"fa fa-user\"> </i> <a href=\"{3}\">{1}</a>.\n",
                "                            </div>\n",
                "                        </div>\n",
                "                    </div>\n",
                "            </section>'''\n",
                "    litems = []\n",
                "    for p in sorted_posts:\n",
                "        q = [x for x in p[1:]]\n",
                "        timestamp = p[0].astimezone(homeTZ)\n",
                "        q.insert(0, timestamp.strftime('%b %d, %Y %I:%M %p'))\n",
                "        litems.append(listTemplate.format(*q))\n",
                "    myitems = '</br>'.join(litems)\n",
                "    return myitems\n",
                "\n",
                "\n",
                "\n"
            ]
        },
        {
            "cell_type": "code",
            "execution_count": null,
            "metadata": {},
            "outputs": [],
            "source": [
                "start"
            ]
        },
        {
            "cell_type": "code",
            "execution_count": null,
            "metadata": {},
            "outputs": [],
            "source": [
                "date_half_ago"
            ]
        },
        {
            "cell_type": "code",
            "execution_count": null,
            "metadata": {},
            "outputs": [],
            "source": [
                "a=get_posts()"
            ]
        },
        {
            "cell_type": "code",
            "execution_count": null,
            "metadata": {},
            "outputs": [],
            "source": [
                "a[1][4]"
            ]
        },
        {
            "cell_type": "code",
            "execution_count": null,
            "metadata": {},
            "outputs": [],
            "source": [
                "a[0][0] # dati\n",
                "\n",
                "a[0][4] # link\n"
            ]
        },
        {
            "cell_type": "code",
            "execution_count": null,
            "metadata": {},
            "outputs": [],
            "source": [
                "a[0][] "
            ]
        },
        {
            "cell_type": "code",
            "execution_count": null,
            "metadata": {},
            "outputs": [],
            "source": [
                "a[0][1] # blogname\n"
            ]
        },
        {
            "cell_type": "code",
            "execution_count": 26,
            "metadata": {},
            "outputs": [],
            "source": [
                "subscriptions = [\n",
                "    #'http://www.pydanny.com/feeds/all.atom.xml',\n",
                "    #'http://www.blog.pythonlibrary.org/feed/',\n",
                "    'https://realpython.com/atom.xml',\n",
                "    #'https://feeds.feedburner.com/ServeTheHome'\n",
                "    'https://rfriend.tistory.com/rss',\n",
                "    'https://towardsdatascience.com/feed',\n",
                "    'https://www.reddit.com/r/MachineLearning/']"
            ]
        },
        {
            "cell_type": "code",
            "execution_count": 27,
            "metadata": {},
            "outputs": [],
            "source": [
                "f = fp.parse(subscriptions[3])\n",
                "#blog = f['feed']['title']"
            ]
        }
    ],
    "metadata": {
        "interpreter": {
            "hash": "1e48e9f02aa1c52a831fce53ecd0b578934eda269b52155fe6dfe4b93fc64e98"
        },
        "kernelspec": {
            "display_name": "Python 3.8.10 64-bit ('Venv38': conda)",
            "name": "python3"
        },
        "language_info": {
            "codemirror_mode": {
                "name": "ipython",
                "version": 3
            },
            "file_extension": ".py",
            "mimetype": "text/x-python",
            "name": "python",
            "nbconvert_exporter": "python",
            "pygments_lexer": "ipython3",
            "version": "3.8.10"
        },
        "orig_nbformat": 4
    },
    "nbformat": 4,
    "nbformat_minor": 2
}
